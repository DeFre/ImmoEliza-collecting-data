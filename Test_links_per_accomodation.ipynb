{
 "cells": [
  {
   "cell_type": "code",
   "execution_count": null,
   "metadata": {},
   "outputs": [],
   "source": [
    "jobs=soup.find_all('div',class_='srp-job-bx')\n",
    "import time\n",
    "unfamiliar_skill= input('>')\n",
    "print(f'filtering out {unfamiliar_skill}')\n",
    "\n",
    "def find_jobs():\n",
    "    for job in jobs:\n",
    "        posted_date= job.find('span',class_='posting-time').text.replace(' ','')\n",
    "        if '4d' in posted_date:\n",
    "            company_name = job.find('h4').text\n",
    "            skills = job.find('div',class_='srp-keyskills').text.replace(' ','')\n",
    "            more_info =job.h3.a['href']\n",
    "            if unfamiliar_skill not in skills:\n",
    "                print(f'company name:{company_name.strip()}') # strip removes the large spaces between results\n",
    "                print(f'required skills:{skills.strip()}')\n",
    "\n",
    "                print(f'more info:{more_info}')\n",
    "if __name__ =='__main__':\n",
    "    while True:\n",
    "        find_jobs()\n",
    "        time_wait=10\n",
    "        print(f'waiting {time_wait} seconds')\n",
    "        time.sleep(time_wait*10)\n",
    "\n"
   ]
  }
 ],
 "metadata": {
  "language_info": {
   "name": "python"
  },
  "orig_nbformat": 4
 },
 "nbformat": 4,
 "nbformat_minor": 2
}
