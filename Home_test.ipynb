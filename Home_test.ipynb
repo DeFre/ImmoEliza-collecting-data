{
 "cells": [
  {
   "cell_type": "code",
   "execution_count": null,
   "metadata": {},
   "outputs": [],
   "source": [
    "from bs4 import BeautifulSoup\n",
    "import requests"
   ]
  },
  {
   "cell_type": "code",
   "execution_count": null,
   "metadata": {},
   "outputs": [],
   "source": [
    "#html_text= requests.get('https://www.immoweb.be/en/classified/exceptional-property/for-sale/antwerp/2000/10591004').text\n",
    "#print(html_text)"
   ]
  },
  {
   "cell_type": "code",
   "execution_count": null,
   "metadata": {},
   "outputs": [],
   "source": [
    "html_text=requests.get('https://www.immoweb.be/en/classified/mansion/for-sale/bruxelles/1000/10653822').text"
   ]
  },
  {
   "cell_type": "code",
   "execution_count": null,
   "metadata": {},
   "outputs": [],
   "source": [
    "soup = BeautifulSoup(html_text, 'html.parser')\n",
    "print(soup.prettify())"
   ]
  },
  {
   "cell_type": "code",
   "execution_count": null,
   "metadata": {},
   "outputs": [],
   "source": [
    "Body_overview= soup.find_all('tbody',class_='classified-table__body')\n",
    "print(Body_overview)"
   ]
  },
  {
   "cell_type": "code",
   "execution_count": null,
   "metadata": {},
   "outputs": [],
   "source": [
    "house = []\n",
    "\n",
    "house = soup.find_all('tbody',class_='classified-table__body')\n",
    "print(house)\n",
    "interior_house = house[1].find_all('tr')\n",
    "print(interior_house)\n",
    "facilities_house = house[3].find_all('tr')\n",
    "financial_house = house[6].find_all('tr')\n",
    "\n",
    "\n",
    "\n",
    "\n",
    "\n",
    "'''create an empty list and assign the above html content to the list.\n",
    "        the second index of the html content conveys the interior section\n",
    "        '''\n"
   ]
  },
  {
   "cell_type": "code",
   "execution_count": null,
   "metadata": {},
   "outputs": [],
   "source": [
    "interior={}\n",
    "interior_key=[]\n",
    "interior_value=[]\n",
    "\n",
    "for elem in interior_house:\n",
    "    for th in elem.find_all('th'):\n",
    "        print(th.contents[0].strip())\n",
    "        interior_key.append(th.contents[0].strip())\n",
    "        \n",
    "    for td in elem.find_all('td'):\n",
    "        print(td.contents[0].strip()) \n",
    "        interior_value.append(td.contents[0].strip())\n",
    "\n",
    "\n",
    "    ''' Dictionary created in order to store the table headers (th) and their values (td)\n",
    "A list is then creatted for each key and value to store the corresponding th and td\n",
    "a for loop is then created to iterate over the multiple keys and values corresponding to the interior, whilst removing the trailing white spaces (strip)\n",
    "'''"
   ]
  },
  {
   "cell_type": "code",
   "execution_count": null,
   "metadata": {},
   "outputs": [],
   "source": [
    "for th in soup.find_all('th'):\n",
    "        print(th.contents[0].strip())\n",
    "        interior_key.append(th.contents[0].strip())\n",
    "\n",
    "print(interior_key)\n"
   ]
  },
  {
   "cell_type": "code",
   "execution_count": null,
   "metadata": {},
   "outputs": [],
   "source": [
    "for td in soup.find_all('td'):\n",
    "        print(td.contents[0].strip()) \n",
    "        interior_value.append(td.contents[0].strip())\n",
    "\n",
    "print(interior_value)"
   ]
  },
  {
   "cell_type": "code",
   "execution_count": null,
   "metadata": {},
   "outputs": [],
   "source": [
    "facilities={}\n",
    "facilities_key=[]\n",
    "facilities_value=[]\n",
    "\n",
    "for elem in facilities_house:\n",
    "    for th in elem.find_all('th'):\n",
    "        print(th.contents[0].strip())\n",
    "        facilities_key.append(th.contents[0].strip())\n",
    "        \n",
    "    for td in elem.find_all('td'):\n",
    "        print(td.contents[0].strip()) \n",
    "        facilities_value.append(td.contents[0].strip())"
   ]
  },
  {
   "cell_type": "code",
   "execution_count": null,
   "metadata": {},
   "outputs": [],
   "source": [
    "financials={}\n",
    "financials_key=[]\n",
    "financials_value=[]\n",
    "\n",
    "for elem in financial_house:\n",
    "    for th in elem.find_all('th'):\n",
    "        print(th.contents[0].strip())\n",
    "        financials_key.append(th.contents[0].strip())\n",
    "        \n",
    "    for td in elem.find_all('td'):\n",
    "        if len(td.find_all('span'))>0:\n",
    "            print(td.find_all('span')[0].contents[0].strip())\n",
    "            financials_value.append(td.find_all('span')[0].contents[0].strip())\n",
    "            \n",
    "\n",
    "    ''' Looking at the 'td' tag, we see that there are 2 span tags within the list, conveying the same info. Hence, we only want the first value of the list.\n",
    "We look for all the spans and command that we print the first value'''\n",
    "\n",
    "\n",
    "    if financials_key and financials_value:\n",
    "                financials[financials_key[0]] = financials_value[0]\n",
    "    \n",
    "    break\n",
    "\n",
    "    ''' We only want to convey the price of the property. Therefore, once we have elements for the first key/value, add them to the dictionary  '''\n",
    "        "
   ]
  },
  {
   "cell_type": "code",
   "execution_count": null,
   "metadata": {},
   "outputs": [],
   "source": [
    "# create a dictionary of the list vs indexing the actual list.\n",
    "\n",
    "Dict_list={interior:1}"
   ]
  },
  {
   "cell_type": "code",
   "execution_count": 12,
   "metadata": {},
   "outputs": [
    {
     "name": "stdout",
     "output_type": "stream",
     "text": [
      "{'Available as of': 'After signing the deed', 'Construction year': '1918', 'Building condition': 'As new', 'Street frontage width': '5 m', 'Number of frontages': '2', 'Outdoor parking spaces': '1', 'Surroundings type': 'Isolated', 'Living area': '95', 'Living room surface': '21', 'Kitchen type': 'USA installed', 'Kitchen surface': '15', 'Bedrooms': '3', 'Bedroom 1 surface': '10', 'Bedroom 2 surface': '10', 'Bedroom 3 surface': '11', 'Bathrooms': '1', 'Shower rooms': '1', 'Toilets': '2', 'Office surface': '10', 'Office': 'Yes', 'Basement surface': '21', 'Attic surface': '31', 'Surface of the plot': '150', 'Width of the lot on the street': '', 'Connection to sewer network': 'Connected', 'Terrace surface': '11', 'TV cable': 'Yes', 'Primary energy consumption': '500', 'Energy class': 'F', 'Reference number of the EPC report': '20180419013499', 'CO₂ emission': '15 kg CO₂/m²', 'Yearly theoretical total energy consumption': '74324 kWh/year', 'Heating type': 'Electric', 'Double glazing': 'Yes', 'Total ground floor buildable': '150', 'Price': '', 'Cadastral income': '', 'Tenement building': 'No', 'Address': 'Haie des Chênes 3', 'Website': '', 'External reference': '5321385'}\n"
     ]
    }
   ],
   "source": [
    "import requests\n",
    "from bs4 import BeautifulSoup\n",
    "root_url = 'https://www.immoweb.be/en'\n",
    "#url = 'https://www.immoweb.be/en/classified/house/for-sale/lede/9340/10660142'\n",
    "list_of_urls = ['https://www.immoweb.be/en/classified/house/for-sale/aywaille/4920/10600649', ]\n",
    "\n",
    "for url in list_of_urls:\n",
    "    html_text = requests.get(url)\n",
    "    soup = BeautifulSoup(html_text.content, 'html.parser')\n",
    "    pretty = soup.prettify()\n",
    "\n",
    "    all_data = soup.find_all('td' , class_ = 'classified-table__data')\n",
    "    all_header = soup.find_all('th', class_='classified-table__header')\n",
    "\n",
    "    list_of_header = []\n",
    "    list_of_data = []\n",
    "    for header in all_header:\n",
    "        list_of_header.append(header.contents[0].strip())\n",
    "    for data in all_data:\n",
    "      #if data.find('span', class_='sr-only'):\n",
    "        list_of_data.append(data.contents[0].strip())\n",
    "    \n",
    "    result_dict = { x:y for x,y in zip(list_of_header, list_of_data)}\n",
    "print(result_dict)"
   ]
  },
  {
   "cell_type": "code",
   "execution_count": 25,
   "metadata": {},
   "outputs": [
    {
     "name": "stdout",
     "output_type": "stream",
     "text": [
      "{'Available as of': 'After signing the deed', 'Construction year': '1918', 'Building condition': 'As new', 'Street frontage width': '5 m', 'Number of frontages': '2', 'Outdoor parking spaces': '1', 'Surroundings type': 'Isolated', 'Living area': '', 'Living room surface': '', 'Kitchen type': 'USA installed', 'Kitchen surface': '', 'Bedrooms': '3', 'Bedroom 1 surface': '', 'Bedroom 2 surface': '', 'Bedroom 3 surface': '', 'Bathrooms': '1', 'Shower rooms': '1', 'Toilets': '2', 'Office surface': '', 'Office': 'Yes', 'Basement surface': '', 'Attic surface': '', 'Surface of the plot': '', 'Width of the lot on the street': '', 'Connection to sewer network': 'Connected', 'Terrace surface': '', 'TV cable': 'Yes', 'Primary energy consumption': '', 'Energy class': 'F', 'Reference number of the EPC report': '20180419013499', 'CO₂ emission': '15 kg CO₂/m²', 'Yearly theoretical total energy consumption': '74324 kWh/year', 'Heating type': 'Electric', 'Double glazing': 'Yes', 'Total ground floor buildable': '', 'Price': '€ 229,000', 'Cadastral income': '€ 262', 'Tenement building': 'No', 'Address': 'Haie des Chênes 3', 'Website': '', 'External reference': '5321385'}\n"
     ]
    }
   ],
   "source": [
    "import requests\n",
    "from bs4 import BeautifulSoup\n",
    "\n",
    "root_url = 'https://www.immoweb.be/en'\n",
    "list_of_urls = ['https://www.immoweb.be/en/classified/house/for-sale/aywaille/4920/10600649']\n",
    "\n",
    "result_dict = {}  # Initialize an empty dictionary\n",
    "\n",
    "for url in list_of_urls:\n",
    "    html_text = requests.get(url)\n",
    "    soup = BeautifulSoup(html_text.content, 'html.parser')\n",
    "\n",
    "    all_data = soup.find_all('td', class_='classified-table__data')\n",
    "    all_header = soup.find_all('th', class_='classified-table__header')\n",
    "\n",
    "    list_of_header = []\n",
    "    list_of_data = []\n",
    "    for header in all_header:\n",
    "        list_of_header.append(header.contents[0].strip())\n",
    "    for data in all_data:\n",
    "        \n",
    "        if len(data.find_all('span')) > 0:\n",
    "            span_content = data.find_all('span')[0].contents[0].strip()\n",
    "            list_of_data.append(span_content)\n",
    "        else:\n",
    "            list_of_data.append(data.contents[0].strip())\n",
    "\n",
    "    result_dict = {x:y for x, y in zip(list_of_header, list_of_data)}\n",
    "\n",
    "print(result_dict)\n"
   ]
  }
 ],
 "metadata": {
  "kernelspec": {
   "display_name": "Python 3",
   "language": "python",
   "name": "python3"
  },
  "language_info": {
   "codemirror_mode": {
    "name": "ipython",
    "version": 3
   },
   "file_extension": ".py",
   "mimetype": "text/x-python",
   "name": "python",
   "nbconvert_exporter": "python",
   "pygments_lexer": "ipython3",
   "version": "3.9.6"
  },
  "orig_nbformat": 4
 },
 "nbformat": 4,
 "nbformat_minor": 2
}
