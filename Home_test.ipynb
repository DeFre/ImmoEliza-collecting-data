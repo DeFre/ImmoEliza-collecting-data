{
 "cells": [
  {
   "cell_type": "code",
   "execution_count": null,
   "metadata": {},
   "outputs": [],
   "source": [
    "from bs4 import BeautifulSoup\n",
    "import requests"
   ]
  },
  {
   "cell_type": "code",
   "execution_count": null,
   "metadata": {},
   "outputs": [],
   "source": [
    "#html_text= requests.get('https://www.immoweb.be/en/classified/exceptional-property/for-sale/antwerp/2000/10591004').text\n",
    "#print(html_text)"
   ]
  },
  {
   "cell_type": "code",
   "execution_count": null,
   "metadata": {},
   "outputs": [],
   "source": [
    "html_text=requests.get('https://www.immoweb.be/en/classified/mansion/for-sale/bruxelles/1000/10653822').text"
   ]
  },
  {
   "cell_type": "code",
   "execution_count": null,
   "metadata": {},
   "outputs": [],
   "source": [
    "soup = BeautifulSoup(html_text, 'html.parser')\n",
    "print(soup.prettify())"
   ]
  },
  {
   "cell_type": "code",
   "execution_count": null,
   "metadata": {},
   "outputs": [],
   "source": [
    "Body_overview= soup.find_all('tbody',class_='classified-table__body')\n",
    "print(Body_overview)"
   ]
  },
  {
   "cell_type": "code",
   "execution_count": null,
   "metadata": {},
   "outputs": [],
   "source": [
    "house = []\n",
    "\n",
    "house = soup.find_all('tbody',class_='classified-table__body')\n",
    "print(house)\n",
    "interior_house = house[1].find_all('tr')\n",
    "print(interior_house)\n",
    "facilities_house = house[3].find_all('tr')\n",
    "financial_house = house[6].find_all('tr')\n",
    "\n",
    "\n",
    "\n",
    "\n",
    "\n",
    "'''create an empty list and assign the above html content to the list.\n",
    "        the second index of the html content conveys the interior section\n",
    "        '''\n"
   ]
  },
  {
   "cell_type": "code",
   "execution_count": null,
   "metadata": {},
   "outputs": [],
   "source": [
    "interior={}\n",
    "interior_key=[]\n",
    "interior_value=[]\n",
    "\n",
    "for elem in interior_house:\n",
    "    for th in elem.find_all('th'):\n",
    "        print(th.contents[0].strip())\n",
    "        interior_key.append(th.contents[0].strip())\n",
    "        \n",
    "    for td in elem.find_all('td'):\n",
    "        print(td.contents[0].strip()) \n",
    "        interior_value.append(td.contents[0].strip())\n",
    "\n",
    "\n",
    "    ''' Dictionary created in order to store the table headers (th) and their values (td)\n",
    "A list is then creatted for each key and value to store the corresponding th and td\n",
    "a for loop is then created to iterate over the multiple keys and values corresponding to the interior, whilst removing the trailing white spaces (strip)\n",
    "'''"
   ]
  },
  {
   "cell_type": "code",
   "execution_count": null,
   "metadata": {},
   "outputs": [],
   "source": [
    "for th in soup.find_all('th'):\n",
    "        print(th.contents[0].strip())\n",
    "        interior_key.append(th.contents[0].strip())\n",
    "\n",
    "print(interior_key)\n"
   ]
  },
  {
   "cell_type": "code",
   "execution_count": null,
   "metadata": {},
   "outputs": [],
   "source": [
    "for td in soup.find_all('td'):\n",
    "        print(td.contents[0].strip()) \n",
    "        interior_value.append(td.contents[0].strip())\n",
    "\n",
    "print(interior_value)"
   ]
  },
  {
   "cell_type": "code",
   "execution_count": null,
   "metadata": {},
   "outputs": [],
   "source": [
    "facilities={}\n",
    "facilities_key=[]\n",
    "facilities_value=[]\n",
    "\n",
    "for elem in facilities_house:\n",
    "    for th in elem.find_all('th'):\n",
    "        print(th.contents[0].strip())\n",
    "        facilities_key.append(th.contents[0].strip())\n",
    "        \n",
    "    for td in elem.find_all('td'):\n",
    "        print(td.contents[0].strip()) \n",
    "        facilities_value.append(td.contents[0].strip())"
   ]
  },
  {
   "attachments": {},
   "cell_type": "markdown",
   "metadata": {},
   "source": [
    "<h2> Not the correct version</h2>"
   ]
  },
  {
   "cell_type": "code",
   "execution_count": null,
   "metadata": {},
   "outputs": [],
   "source": [
    "financials={}\n",
    "financials_key=[]\n",
    "financials_value=[]\n",
    "\n",
    "for elem in financial_house:\n",
    "    for th in elem.find_all('th'):\n",
    "        print(th.contents[0].strip())\n",
    "        financials_key.append(th.contents[0].strip())\n",
    "        \n",
    "    for td in elem.find_all('td'):\n",
    "        if len(td.find_all('span'))>0:\n",
    "            print(td.find_all('span')[0].contents[0].strip())\n",
    "            financials_value.append(td.find_all('span')[0].contents[0].strip())\n",
    "            \n",
    "\n",
    "    ''' Looking at the 'td' tag, we see that there are 2 span tags within the list, conveying the same info. Hence, we only want the first value of the list.\n",
    "We look for all the spans and command that we print the first value'''\n",
    "\n",
    "\n",
    "    if financials_key and financials_value:\n",
    "                financials[financials_key[0]] = financials_value[0]\n",
    "    \n",
    "    break\n",
    "\n",
    "    ''' We only want to convey the price of the property. Therefore, once we have elements for the first key/value, add them to the dictionary  '''\n",
    "        "
   ]
  },
  {
   "attachments": {},
   "cell_type": "markdown",
   "metadata": {},
   "source": [
    "<h2>Without the price</h2>"
   ]
  },
  {
   "cell_type": "code",
   "execution_count": 12,
   "metadata": {},
   "outputs": [
    {
     "name": "stdout",
     "output_type": "stream",
     "text": [
      "{'Available as of': 'After signing the deed', 'Construction year': '1918', 'Building condition': 'As new', 'Street frontage width': '5 m', 'Number of frontages': '2', 'Outdoor parking spaces': '1', 'Surroundings type': 'Isolated', 'Living area': '95', 'Living room surface': '21', 'Kitchen type': 'USA installed', 'Kitchen surface': '15', 'Bedrooms': '3', 'Bedroom 1 surface': '10', 'Bedroom 2 surface': '10', 'Bedroom 3 surface': '11', 'Bathrooms': '1', 'Shower rooms': '1', 'Toilets': '2', 'Office surface': '10', 'Office': 'Yes', 'Basement surface': '21', 'Attic surface': '31', 'Surface of the plot': '150', 'Width of the lot on the street': '', 'Connection to sewer network': 'Connected', 'Terrace surface': '11', 'TV cable': 'Yes', 'Primary energy consumption': '500', 'Energy class': 'F', 'Reference number of the EPC report': '20180419013499', 'CO₂ emission': '15 kg CO₂/m²', 'Yearly theoretical total energy consumption': '74324 kWh/year', 'Heating type': 'Electric', 'Double glazing': 'Yes', 'Total ground floor buildable': '150', 'Price': '', 'Cadastral income': '', 'Tenement building': 'No', 'Address': 'Haie des Chênes 3', 'Website': '', 'External reference': '5321385'}\n"
     ]
    }
   ],
   "source": [
    "import requests\n",
    "from bs4 import BeautifulSoup\n",
    "root_url = 'https://www.immoweb.be/en'\n",
    "#url = 'https://www.immoweb.be/en/classified/house/for-sale/lede/9340/10660142'\n",
    "list_of_urls = ['https://www.immoweb.be/en/classified/house/for-sale/aywaille/4920/10600649', ]\n",
    "\n",
    "for url in list_of_urls:\n",
    "    html_text = requests.get(url)\n",
    "    soup = BeautifulSoup(html_text.content, 'html.parser')\n",
    "    pretty = soup.prettify()\n",
    "\n",
    "    all_data = soup.find_all('td' , class_ = 'classified-table__data')\n",
    "    all_header = soup.find_all('th', class_='classified-table__header')\n",
    "\n",
    "    list_of_header = []\n",
    "    list_of_data = []\n",
    "    for header in all_header:\n",
    "        list_of_header.append(header.contents[0].strip())\n",
    "    for data in all_data:\n",
    "      #if data.find('span', class_='sr-only'):\n",
    "        list_of_data.append(data.contents[0].strip())\n",
    "    \n",
    "    result_dict = { x:y for x,y in zip(list_of_header, list_of_data)}\n",
    "print(result_dict)"
   ]
  },
  {
   "attachments": {},
   "cell_type": "markdown",
   "metadata": {},
   "source": [
    "<h2>With the price</h2>"
   ]
  },
  {
   "cell_type": "code",
   "execution_count": 36,
   "metadata": {},
   "outputs": [
    {
     "name": "stdout",
     "output_type": "stream",
     "text": [
      "{'Available as of': 'After signing the deed', 'Construction year': '1918', 'Building condition': 'As new', 'Street frontage width': '5 m', 'Number of frontages': '2', 'Outdoor parking spaces': '1', 'Surroundings type': 'Isolated', 'Living area': '', 'Living room surface': '', 'Kitchen type': 'USA installed', 'Kitchen surface': '', 'Bedrooms': '3', 'Bedroom 1 surface': '', 'Bedroom 2 surface': '', 'Bedroom 3 surface': '', 'Bathrooms': '1', 'Shower rooms': '1', 'Toilets': '2', 'Office surface': '', 'Office': 'Yes', 'Basement surface': '', 'Attic surface': '', 'Surface of the plot': '', 'Width of the lot on the street': '', 'Connection to sewer network': 'Connected', 'Terrace surface': '', 'TV cable': 'Yes', 'Primary energy consumption': '', 'Energy class': 'F', 'Reference number of the EPC report': '20180419013499', 'CO₂ emission': '15 kg CO₂/m²', 'Yearly theoretical total energy consumption': '74324 kWh/year', 'Heating type': 'Electric', 'Double glazing': 'Yes', 'Total ground floor buildable': '', 'Price': '€ 229,000', 'Cadastral income': '€ 262', 'Tenement building': 'No', 'Address': 'Haie des Chênes 3', 'Website': '', 'External reference': '5321385'}\n"
     ]
    }
   ],
   "source": [
    "import requests\n",
    "from bs4 import BeautifulSoup\n",
    "\n",
    "root_url = 'https://www.immoweb.be/en'\n",
    "list_of_urls = ['https://www.immoweb.be/en/classified/house/for-sale/aywaille/4920/10600649']\n",
    "\n",
    "result_dict = {}  # Initialize an empty dictionary\n",
    "\n",
    "for url in list_of_urls:\n",
    "    html_text = requests.get(url)\n",
    "    soup = BeautifulSoup(html_text.content, 'html.parser')\n",
    "\n",
    "    all_data = soup.find_all('td', class_='classified-table__data')\n",
    "    all_header = soup.find_all('th', class_='classified-table__header')\n",
    "\n",
    "    list_of_header = []\n",
    "    list_of_data = []\n",
    "    for header in all_header:\n",
    "        list_of_header.append(header.contents[0].strip())\n",
    "    \n",
    "    for data in all_data:\n",
    "        if len(data.find_all('span')) > 0:\n",
    "            span_content = data.find_all('span')[0].contents[0].strip()\n",
    "            list_of_data.append(span_content)\n",
    "        else:\n",
    "            list_of_data.append(data.contents[0].strip())\n",
    "\n",
    "    result_dict = {x:y for x, y in zip(list_of_header, list_of_data)}\n",
    "\n",
    "print(result_dict)\n"
   ]
  },
  {
   "cell_type": "code",
   "execution_count": 42,
   "metadata": {},
   "outputs": [
    {
     "name": "stdout",
     "output_type": "stream",
     "text": [
      "[{'Locality': 0, 'Bedrooms': '1', 'Construction year': '1899', 'Building condition': 'To be done up', 'Number of frontages': '2', 'Outdoor parking space': 0, 'Bathrooms': '1', 'Shower rooms': '1', 'Office': 'Yes', 'Toilets': '1', 'Kitchen type': 'Not installed', 'Furnished': 'No', 'Terrace': 'Yes', 'Heating type': 'Electric', 'Price': '159000 €', 'External reference': '5394692', 'Address': \"Voie de L'air Pur 211\", 'Energy class': 'G', 'Primary energy consumption': 'kWh/m²'}, {'Locality': 0, 'Bedrooms': '4', 'Construction year': '1959', 'Building condition': 'To renovate', 'Number of frontages': '4', 'Outdoor parking space': 0, 'Bathrooms': '2', 'Shower rooms': 0, 'Office': 0, 'Toilets': '1', 'Kitchen type': 'Hyper equipped', 'Furnished': 0, 'Terrace': 0, 'Heating type': 'Fuel oil', 'Price': '319000 €', 'External reference': 0, 'Address': 'Rue de la Cathédrale 17', 'Energy class': 'F', 'Primary energy consumption': 'kWh/m²'}, {'Locality': 0, 'Bedrooms': '3', 'Construction year': '2023', 'Building condition': 0, 'Number of frontages': '4', 'Outdoor parking space': 0, 'Bathrooms': '1', 'Shower rooms': 0, 'Office': 0, 'Toilets': 0, 'Kitchen type': 'Not installed', 'Furnished': 'No', 'Terrace': 'Yes', 'Heating type': 0, 'Price': '399990 €', 'External reference': '5416044', 'Address': 'Avenue Louis Libert 1', 'Energy class': 'Not specified', 'Primary energy consumption': 'Not specified'}, {'Locality': 0, 'Bedrooms': '2', 'Construction year': 0, 'Building condition': 'Good', 'Number of frontages': '2', 'Outdoor parking space': 0, 'Bathrooms': '1', 'Shower rooms': 0, 'Office': 0, 'Toilets': 0, 'Kitchen type': 'Installed', 'Furnished': 'No', 'Terrace': 'Yes', 'Heating type': 'Fuel oil', 'Price': '219000 €', 'External reference': '5398398', 'Address': 'Avenue Louis Libert 1', 'Energy class': 'E', 'Primary energy consumption': 'kWh/m²'}, {'Locality': 0, 'Bedrooms': '2', 'Construction year': 0, 'Building condition': 'Good', 'Number of frontages': '2', 'Outdoor parking space': 0, 'Bathrooms': '1', 'Shower rooms': 0, 'Office': 0, 'Toilets': '1', 'Kitchen type': 'Installed', 'Furnished': 0, 'Terrace': 0, 'Heating type': 'Fuel oil', 'Price': 'Make an offer starting from\\n                                                                                        219500 €', 'External reference': '17522 - 111115201', 'Address': 'Rue Charles Magnette 24/40', 'Energy class': 'C', 'Primary energy consumption': 'kWh/m²'}]\n"
     ]
    }
   ],
   "source": [
    "import requests\n",
    "from bs4 import BeautifulSoup\n",
    "root_url = 'https://www.immoweb.be/en'\n",
    "#url = 'https://www.immoweb.be/en/classified/house/for-sale/lede/9340/10660142'\n",
    "list_of_urls = ['https://www.immoweb.be/en/classified/house/for-sale/aywaille%20sougn%C3%A9-remouchamps/4920/10663667', 'https://www.immoweb.be/en/classified/villa/for-sale/aywaille/4920/10661605', 'https://www.immoweb.be/en/classified/villa/for-sale/aywaille/4920/10660061', 'https://www.immoweb.be/en/classified/house/for-sale/aywaille/4920/10660060', 'https://www.immoweb.be/en/classified/house/for-sale/sougn%C3%89-remouchamps/4920/10658556']#'https://www.immoweb.be/en/classified/house/for-sale/aywaille/4920/10658163', 'https://www.immoweb.be/en/classified/villa/for-sale/aywaille/4920/10651067', 'https://www.immoweb.be/en/classified/house/for-sale/aywaille/4920/10648619', 'https://www.immoweb.be/en/classified/apartment/for-sale/aywaille/4920/10643308', 'https://www.immoweb.be/en/classified/villa/for-sale/aywaille/4920/10641572', 'https://www.immoweb.be/en/classified/house/for-sale/aywaille/4920/10639606', 'https://www.immoweb.be/en/classified/house/for-sale/aywaille%20harz%C3%A9/4920/10639182', 'https://www.immoweb.be/en/classified/mixed-use-building/for-sale/aywaille/4920/10622435', 'https://www.immoweb.be/en/classified/bungalow/for-sale/aywaille/4920/10619190', 'https://www.immoweb.be/en/classified/house/for-sale/aywaille/4920/10617582', 'https://www.immoweb.be/en/classified/mixed-use-building/for-sale/aywaille/4920/10616382', 'https://www.immoweb.be/en/classified/mixed-use-building/for-sale/aywaille/4920/10613517', 'https://www.immoweb.be/en/classified/villa/for-sale/aywaille/4920/10609761', 'https://www.immoweb.be/en/classified/house/for-sale/aywaille/4920/10609759', 'https://www.immoweb.be/en/classified/house/for-sale/aywaille/4920/10605215', 'https://www.immoweb.be/en/classified/house/for-sale/aywaille/4920/10600649', 'https://www.immoweb.be/en/classified/apartment/for-sale/aywaille/4920/10599273', 'https://www.immoweb.be/en/classified/apartment/for-sale/aywaille/4920/10599271', 'https://www.immoweb.be/en/classified/house/for-sale/aywaille/4920/10591077', 'https://www.immoweb.be/en/classified/apartment-block/for-sale/aywaille/4920/10581207', 'https://www.immoweb.be/en/classified/house/for-sale/aywaille/4920/10581205', 'https://www.immoweb.be/en/classified/house/for-sale/aywaille/4920/10580798', 'https://www.immoweb.be/en/classified/house/for-sale/harz%C3%89/4920/10578860', 'https://www.immoweb.be/en/classified/house/for-sale/aywaille/4920/10578256', 'https://www.immoweb.be/en/classified/chalet/for-sale/aywaille/4920/10576010']\n",
    "\n",
    "things = ['Locality','Bedrooms','Construction year', 'Building condition', 'Number of frontages', 'Outdoor parking space', 'Bathrooms','Shower rooms', 'Office' , 'Toilets', 'Kitchen type', 'Furnished', 'Terrace','Heating type', 'Price' , 'External reference', 'Address', 'Energy class', 'Primary energy consumption','Price']\n",
    "list_of_needed = []\n",
    "\n",
    "\n",
    "for url in list_of_urls:\n",
    "    \n",
    "    html_text = requests.get(url)\n",
    "    soup = BeautifulSoup(html_text.content, 'html.parser')\n",
    "    pretty = soup.prettify()\n",
    "\n",
    "    all_data = soup.find_all('td' , class_ = 'classified-table__data')\n",
    "    all_header = soup.find_all('th', class_='classified-table__header')\n",
    "\n",
    "    list_of_header = []\n",
    "    list_of_data = []\n",
    "\n",
    "    for header in all_header:\n",
    "        list_of_header.append(header.contents[0].strip())\n",
    "\n",
    "    for data in all_data:\n",
    "        if len(data.find_all('span')) > 0:\n",
    "            span_content = data.find_all('span')[1].contents[0].strip()\n",
    "            list_of_data.append(span_content)\n",
    "        else:\n",
    "            list_of_data.append(data.contents[0].strip())\n",
    "\n",
    "    result_dict = {x:y for x, y in zip(list_of_header, list_of_data)}\n",
    "    \n",
    "\n",
    "    needed_things={}\n",
    "    for x in things:\n",
    "        if x in result_dict.keys():\n",
    "            needed_things[x]=result_dict[x]\n",
    "        else:\n",
    "            needed_things[x]=0\n",
    "    \n",
    "    list_of_needed.append(needed_things)\n",
    "    \n",
    "print(list_of_needed)"
   ]
  },
  {
   "cell_type": "code",
   "execution_count": 43,
   "metadata": {},
   "outputs": [],
   "source": [
    "import csv\n",
    "with open('test.csv', 'w' ) as f:\n",
    "    #writer=csv.writer()\n",
    "    f.write(','.join(list_of_needed[0].keys()))\n",
    "    f.write('\\n')\n",
    "    for row in list_of_needed:\n",
    "        f.write(','.join(str(x) for x in row.values()))\n",
    "        f.write('\\n')"
   ]
  }
 ],
 "metadata": {
  "kernelspec": {
   "display_name": "Python 3",
   "language": "python",
   "name": "python3"
  },
  "language_info": {
   "codemirror_mode": {
    "name": "ipython",
    "version": 3
   },
   "file_extension": ".py",
   "mimetype": "text/x-python",
   "name": "python",
   "nbconvert_exporter": "python",
   "pygments_lexer": "ipython3",
   "version": "3.9.6"
  },
  "orig_nbformat": 4
 },
 "nbformat": 4,
 "nbformat_minor": 2
}
