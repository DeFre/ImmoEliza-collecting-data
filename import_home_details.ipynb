{
 "cells": [
  {
   "cell_type": "code",
   "execution_count": 2,
   "metadata": {},
   "outputs": [
    {
     "name": "stdout",
     "output_type": "stream",
     "text": [
      "{'Available as of': 'After signing the deed', 'Neighbourhood or locality': 'Oost- Vlaanderen', 'Construction year': '1950', 'Building condition': 'To be done up', 'Street frontage width': '6 m', 'Number of frontages': '3', 'Surroundings type': 'Urban', 'Living area': '', 'Living room surface': '', 'Kitchen type': 'Installed', 'Kitchen surface': '', 'Bedrooms': '3', 'Bedroom 1 surface': '', 'Bedroom 2 surface': '', 'Bedroom 3 surface': '', 'Bathrooms': '1', 'Toilets': '1', 'Basement': 'Yes', 'Attic': 'Yes', 'Armored door': 'No', 'Surface of the plot': '', 'Width of the lot on the street': '', 'Connection to sewer network': 'Connected', 'Gas, water & electricity': 'Yes', 'Garden surface': '', 'Terrace': 'Yes', 'Elevator': 'No', 'Accessible for disabled people': 'No', 'TV cable': 'Yes', 'Swimming pool': 'No', 'Primary energy consumption': '', 'Energy class': 'E', 'Reference number of the EPC report': '20230626-0002928488-RES-1', 'CO₂ emission': 'Not specified', 'Yearly theoretical total energy consumption': 'Not specified', 'Heating type': 'Gas', 'Subdivision permit': 'No', 'Possible priority purchase right': 'No', 'Proceedings for breach of planning regulations': 'No', 'Latest land use designation': 'Living area (residential, urban or rural)', 'Price': '€ 219,000', 'Cadastral income': '€ 487', 'Tenement building': 'No', 'Address': 'Hoogstraat 20', 'Website': '', 'External reference': '5389284'}\n",
      "None\n",
      "{'Available as of': 'After signing the deed', 'Neighbourhood or locality': 'Oost- Vlaanderen', 'Construction year': '1950', 'Building condition': 'To be done up', 'Street frontage width': '6 m', 'Number of frontages': '3', 'Surroundings type': 'Urban', 'Living area': '', 'Living room surface': '', 'Kitchen type': 'Installed', 'Kitchen surface': '', 'Bedrooms': '3', 'Bedroom 1 surface': '', 'Bedroom 2 surface': '', 'Bedroom 3 surface': '', 'Bathrooms': '1', 'Toilets': '1', 'Basement': 'Yes', 'Attic': 'Yes', 'Armored door': 'No', 'Surface of the plot': '', 'Width of the lot on the street': '', 'Connection to sewer network': 'Connected', 'Gas, water & electricity': 'Yes', 'Garden surface': '', 'Terrace': 'Yes', 'Elevator': 'No', 'Accessible for disabled people': 'No', 'TV cable': 'Yes', 'Swimming pool': 'No', 'Primary energy consumption': '', 'Energy class': 'E', 'Reference number of the EPC report': '20230626-0002928488-RES-1', 'CO₂ emission': 'Not specified', 'Yearly theoretical total energy consumption': 'Not specified', 'Heating type': 'Gas', 'Subdivision permit': 'No', 'Possible priority purchase right': 'No', 'Proceedings for breach of planning regulations': 'No', 'Latest land use designation': 'Living area (residential, urban or rural)', 'Price': '€ 219,000', 'Cadastral income': '€ 487', 'Tenement building': 'No', 'Address': 'Hoogstraat 20', 'Website': '', 'External reference': '5389284'}\n",
      "None\n"
     ]
    }
   ],
   "source": [
    "from home_details import home_scrape\n",
    "\n",
    "urls=['https://www.immoweb.be/en/classified/house/for-sale/aywaille/4920/10600649', 'https://www.immoweb.be/en/classified/house/for-sale/lede/9340/10660142']\n",
    "\n",
    "for url in urls:\n",
    "    print(home_scrape(urls))\n",
    "\n"
   ]
  },
  {
   "cell_type": "code",
   "execution_count": null,
   "metadata": {},
   "outputs": [],
   "source": []
  }
 ],
 "metadata": {
  "kernelspec": {
   "display_name": "Python 3",
   "language": "python",
   "name": "python3"
  },
  "language_info": {
   "codemirror_mode": {
    "name": "ipython",
    "version": 3
   },
   "file_extension": ".py",
   "mimetype": "text/x-python",
   "name": "python",
   "nbconvert_exporter": "python",
   "pygments_lexer": "ipython3",
   "version": "3.9.6"
  },
  "orig_nbformat": 4
 },
 "nbformat": 4,
 "nbformat_minor": 2
}
