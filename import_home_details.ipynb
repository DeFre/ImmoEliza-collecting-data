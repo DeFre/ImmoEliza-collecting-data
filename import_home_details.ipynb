{
 "cells": [
  {
   "cell_type": "code",
   "execution_count": 1,
   "metadata": {},
   "outputs": [
    {
     "ename": "ModuleNotFoundError",
     "evalue": "No module named 'main_data'",
     "output_type": "error",
     "traceback": [
      "\u001b[0;31m---------------------------------------------------------------------------\u001b[0m",
      "\u001b[0;31mModuleNotFoundError\u001b[0m                       Traceback (most recent call last)",
      "Cell \u001b[0;32mIn[1], line 1\u001b[0m\n\u001b[0;32m----> 1\u001b[0m \u001b[39mfrom\u001b[39;00m \u001b[39mmain_data\u001b[39;00m \u001b[39mimport\u001b[39;00m home_details\n\u001b[1;32m      3\u001b[0m urls\u001b[39m=\u001b[39m[\u001b[39m'\u001b[39m\u001b[39mhttps://www.immoweb.be/en/classified/castle/for-sale/theux/4910/9948962\u001b[39m\u001b[39m'\u001b[39m, \u001b[39m'\u001b[39m\u001b[39mhttps://www.immoweb.be/en/classified/house/for-sale/theux/4910/10560721\u001b[39m\u001b[39m'\u001b[39m, \u001b[39m'\u001b[39m\u001b[39mhttps://www.immoweb.be/en/classified/villa/for-sale/theux/4910/10663657\u001b[39m\u001b[39m'\u001b[39m,]\n\u001b[1;32m      5\u001b[0m \u001b[39mfor\u001b[39;00m url \u001b[39min\u001b[39;00m urls:\n",
      "\u001b[0;31mModuleNotFoundError\u001b[0m: No module named 'main_data'"
     ]
    }
   ],
   "source": [
    "from main_data import home_details\n",
    "\n",
    "urls=['https://www.immoweb.be/en/classified/castle/for-sale/theux/4910/9948962', 'https://www.immoweb.be/en/classified/house/for-sale/theux/4910/10560721', 'https://www.immoweb.be/en/classified/villa/for-sale/theux/4910/10663657',]\n",
    "\n",
    "for url in urls:\n",
    "    interior, facilities, financial = home_details(url)\n",
    "\n"
   ]
  }
 ],
 "metadata": {
  "kernelspec": {
   "display_name": "Python 3",
   "language": "python",
   "name": "python3"
  },
  "language_info": {
   "codemirror_mode": {
    "name": "ipython",
    "version": 3
   },
   "file_extension": ".py",
   "mimetype": "text/x-python",
   "name": "python",
   "nbconvert_exporter": "python",
   "pygments_lexer": "ipython3",
   "version": "3.9.6"
  },
  "orig_nbformat": 4
 },
 "nbformat": 4,
 "nbformat_minor": 2
}
